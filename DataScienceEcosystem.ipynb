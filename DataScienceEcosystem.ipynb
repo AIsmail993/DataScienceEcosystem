{
 "cells": [
  {
   "cell_type": "markdown",
   "id": "d2f15970-0f9d-4c92-b759-3544cb0b637c",
   "metadata": {},
   "source": [
    "# Data Science Tools and Ecosystem"
   ]
  },
  {
   "cell_type": "markdown",
   "id": "0e120ba1-9a97-4f22-85eb-1c348716d7df",
   "metadata": {},
   "source": [
    "In this notebook, Data Science Tools and Ecosystem are summarized."
   ]
  },
  {
   "cell_type": "markdown",
   "id": "c7251f26-1556-4c91-b244-4e05dcee4485",
   "metadata": {},
   "source": [
    "**Objectives:**\n",
    "- List popular languages for Data Science\n",
    "- List commonly used libraries used by Data Scientists\n",
    "- Evaluate Arithmetic Expressions in Python"
   ]
  },
  {
   "cell_type": "markdown",
   "id": "003a7582-4b55-4db8-b6ea-b1eb4357a7b0",
   "metadata": {},
   "source": [
    "Some of the popular languages that Data Scientists use are:\n",
    "1) Python\n",
    "2) R\n",
    "3) SQL"
   ]
  },
  {
   "cell_type": "markdown",
   "id": "72bc502a-1fd8-4eb9-b24e-70afb562a4fb",
   "metadata": {},
   "source": [
    "Some of the commonly used libraries used by Data Scientists include:\n",
    "\n",
    "1) Scikit-learn\n",
    "2) Keras\n",
    "3) Matplotlib"
   ]
  },
  {
   "cell_type": "markdown",
   "id": "6f0fdcb2-f9c0-48e8-8385-0f16e9571c99",
   "metadata": {},
   "source": [
    "| Data Science Tools |\n",
    "|:------------------:|\n",
    "|       GitHub       |\n",
    "|      BitBucket     | \n",
    "|      beanstalk     |"
   ]
  },
  {
   "cell_type": "markdown",
   "id": "d0543100-8093-43fe-8fb6-4fac12c95470",
   "metadata": {},
   "source": [
    "### Below are a few examples of evaluating arithmetic expressions in Python"
   ]
  },
  {
   "cell_type": "code",
   "execution_count": 5,
   "id": "afc88875-f0ec-40d4-bb66-18cfe421a374",
   "metadata": {},
   "outputs": [
    {
     "data": {
      "text/plain": [
       "17"
      ]
     },
     "execution_count": 5,
     "metadata": {},
     "output_type": "execute_result"
    }
   ],
   "source": [
    "# This a simple arithmetic expression to mutiply then add integers\n",
    "(3*4)+5"
   ]
  },
  {
   "cell_type": "code",
   "execution_count": 4,
   "id": "c8f6a865-4eae-41de-9593-a9bf64d3e044",
   "metadata": {},
   "outputs": [
    {
     "name": "stdin",
     "output_type": "stream",
     "text": [
      "Minutes:  200\n"
     ]
    },
    {
     "name": "stdout",
     "output_type": "stream",
     "text": [
      "Hours: 3.3333333333333335\n"
     ]
    }
   ],
   "source": [
    "# This will convert 200 minutes to hours by diving by 60\n",
    "\n",
    "minutes = int(input(\"Minutes: \"))\n",
    "print(\"Hours:\", minutes / 60)"
   ]
  },
  {
   "cell_type": "markdown",
   "id": "a85a8ddf-2358-4080-89a1-500aa605985d",
   "metadata": {},
   "source": [
    "## Author\n",
    "\n",
    "Asser Ismail"
   ]
  }
 ],
 "metadata": {
  "kernelspec": {
   "display_name": "Python 3 (ipykernel)",
   "language": "python",
   "name": "python3"
  },
  "language_info": {
   "codemirror_mode": {
    "name": "ipython",
    "version": 3
   },
   "file_extension": ".py",
   "mimetype": "text/x-python",
   "name": "python",
   "nbconvert_exporter": "python",
   "pygments_lexer": "ipython3",
   "version": "3.12.8"
  }
 },
 "nbformat": 4,
 "nbformat_minor": 5
}
